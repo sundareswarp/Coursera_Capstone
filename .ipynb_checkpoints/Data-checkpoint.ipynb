{
 "cells": [
  {
   "cell_type": "markdown",
   "metadata": {},
   "source": [
    "<h1>Coursera Data Science Capstone Project</h1>"
   ]
  },
  {
   "cell_type": "markdown",
   "metadata": {},
   "source": [
    "<h2>Data</h2>\n",
    "In this project I will be using Districts of Andhra Pradesh data such as its name, population and area which is scareped from Wikipedia using BeautifulSoup. This data helps us obtain few of the parameters for the analysis.<br>\n",
    "We obtain the COVID-19 statistics like active, confirmed and deceased cases for each district via the covid19india.org API which which will help us fulfil the main objective of our exploration.<br>\n",
    "The latitude and longiude for all the districts of obtained using Nominatim method of Geopy package.<br>\n",
    "We use Foursqure API to obtain venues around the district by using the explore endpoint.<br>\n"
   ]
  }
 ],
 "metadata": {
  "kernelspec": {
   "display_name": "Python 3",
   "language": "python",
   "name": "python3"
  },
  "language_info": {
   "codemirror_mode": {
    "name": "ipython",
    "version": 3
   },
   "file_extension": ".py",
   "mimetype": "text/x-python",
   "name": "python",
   "nbconvert_exporter": "python",
   "pygments_lexer": "ipython3",
   "version": "3.7.6"
  }
 },
 "nbformat": 4,
 "nbformat_minor": 4
}
