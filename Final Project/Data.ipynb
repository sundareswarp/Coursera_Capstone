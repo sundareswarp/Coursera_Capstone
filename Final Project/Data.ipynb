{
 "cells": [
  {
   "cell_type": "markdown",
   "metadata": {},
   "source": [
    "<h1>Coursera Data Science Capstone Project</h1>"
   ]
  },
  {
   "cell_type": "markdown",
   "metadata": {},
   "source": [
    "<h2>Introduction</h2>\n",
    "The rise of COVID-19 cases have been rampant in the country of India, and especially in the state of Andhra Pradesh.\n",
    "To try and understand why this is the case for my state, we analyze data such as number of active, confirmed and deceased cases along with the most common venues (obtained via Foursquare API) for each district to determine the reasons why the number of cases are in a steady incline.\n",
    "\n",
    "<h2>Business Problem</h2>\n",
    "Using this analysis, companies can find out which category of businesses might be a cause for rise in cases and implement necessary protocols and measures to try and mitigate their negetive involvement in this pandemic.\n",
    "<h2>Data</h2>\n",
    "In this project I will be using Districts of Andhra Pradesh data such as its name, population and area which is scareped from Wikipedia using BeautifulSoup. This data helps us obtain few of the parameters for the analysis.<br>\n",
    "We obtain the COVID-19 statistics like active, confirmed and deceased cases for each district via the covid19india.org API which which will help us fulfil the main objective of our exploration.<br>\n",
    "The latitude and longiude for all the districts of obtained using Nominatim method of Geopy package.<br>\n",
    "We use Foursqure API to obtain venues around the district by using the explore endpoint.<br>\n"
   ]
  }
 ],
 "metadata": {
  "kernelspec": {
   "display_name": "Python 3",
   "language": "python",
   "name": "python3"
  },
  "language_info": {
   "codemirror_mode": {
    "name": "ipython",
    "version": 3
   },
   "file_extension": ".py",
   "mimetype": "text/x-python",
   "name": "python",
   "nbconvert_exporter": "python",
   "pygments_lexer": "ipython3",
   "version": "3.7.6"
  }
 },
 "nbformat": 4,
 "nbformat_minor": 4
}
