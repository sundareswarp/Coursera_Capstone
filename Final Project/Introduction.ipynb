{
 "cells": [
  {
   "cell_type": "markdown",
   "metadata": {},
   "source": [
    "<h1>Coursera Data Science Capstone Project</h1>"
   ]
  },
  {
   "cell_type": "markdown",
   "metadata": {},
   "source": [
    "<h2>Introduction</h2>\n",
    "The rise of COVID-19 cases have been rampant in the country of India, and especially in the state of Andhra Pradesh.\n",
    "To try and understand why this is the case for my state, we analyze data such as number of active, confirmed and deceased cases along with the most common venues (obtained via Foursquare API) for each district to determine the reasons why the number of cases are in a steady incline.\n",
    "\n",
    "<h2>Business Problem</h2>\n",
    "Using this analysis, companies can find out which category of businesses might be a cause for rise in cases and implement necessary protocols and measures to try and mitigate their negetive involvement in this pandemic."
   ]
  }
 ],
 "metadata": {
  "kernelspec": {
   "display_name": "Python 3",
   "language": "python",
   "name": "python3"
  },
  "language_info": {
   "codemirror_mode": {
    "name": "ipython",
    "version": 3
   },
   "file_extension": ".py",
   "mimetype": "text/x-python",
   "name": "python",
   "nbconvert_exporter": "python",
   "pygments_lexer": "ipython3",
   "version": "3.7.6"
  }
 },
 "nbformat": 4,
 "nbformat_minor": 4
}
